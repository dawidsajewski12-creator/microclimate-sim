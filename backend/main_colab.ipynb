# main_colab.ipynb
# Uruchom ten notebook w Google Colab z GPU

# ============================================
# KOMÓRKA 1: Instalacja zależności
# ============================================
!pip install -q fastapi uvicorn python-multipart aiofiles
!pip install -q rasterio geopandas shapely
!pip install -q numpy scipy numba scikit-learn
!pip install -q pvlib pandas joblib
!pip install -q pyngrok httpx
!pip install -q plotly matplotlib seaborn

print("✅ Zależności zainstalowane")

# ============================================
# KOMÓRKA 2: Montowanie Google Drive
# ============================================
from google.colab import drive
drive.mount('/content/drive')

import os
import sys

# Dodaj ścieżkę do modułów
project_dir = '/content/drive/MyDrive/microclimate'
sys.path.append(f'{project_dir}/backend')

print("✅ Google Drive zamontowany")

# ============================================
# KOMÓRKA 3: Utworzenie struktury katalogów
# ============================================
import os
from pathlib import Path

# Struktura projektu
directories = [
    'backend/core',
    'backend/api',
    'backend/utils',
    'data/raw',
    'data/processed',
    'cache',
    'logs',
    'results'
]

base_path = Path('/content/drive/MyDrive/microclimate')

for dir_path in directories:
    full_path = base_path / dir_path
    full_path.mkdir(parents=True, exist_ok=True)
    print(f"📁 {full_path}")

print("✅ Struktura katalogów utworzona")

# ============================================
# KOMÓRKA 4: Zapisanie modułów systemu
# ============================================

# Zapisz moduły (skopiuj kod z artifacts)
modules = {
    'backend/utils/gpkg_converter.py': '''# Tu wklej kod z artifactu gpkg-converter''',
    'backend/core/data_processor.py': '''# Tu wklej kod z artifactu data-processor''',
    'backend/core/wind_solver.py': '''# Tu wklej kod z artifactu wind-solver''',
    'backend/core/thermal_model.py': '''# Tu wklej kod z artifactu thermal-api''',
    'backend/api/api_server.py': '''# Tu wklej kod z artifactu api-server'''
}

# Uwaga: Zastąp komentarze faktycznym kodem z artifactów!

for file_path, content in modules.items():
    full_path = base_path / file_path
    # Zapisz tylko jeśli plik nie istnieje
    if not full_path.exists():
        with open(full_path, 'w') as f:
            f.write(content)
        print(f"📝 Utworzono: {file_path}")

print("✅ Moduły zapisane")

# ============================================
# KOMÓRKA 5: Przetwarzanie danych GPKG
# ============================================
import sys
sys.path.append('/content/drive/MyDrive/microclimate/backend')

from utils.gpkg_converter import BuildingsRasterizer, preprocess_all_data

# Konwertuj budynki z GPKG
print("🏗️ Konwersja budynków z GPKG...")

rasterizer = BuildingsRasterizer(resolution=5.0)

# Ścieżki do danych
gpkg_path = '/content/drive/MyDrive/microclimate/data/raw/buildings.gpkg'
output_dir = '/content/drive/MyDrive/microclimate/data/processed'

if os.path.exists(gpkg_path):
    # Wczytaj i konwertuj budynki
    rasterizer.load_buildings(gpkg_path, height_field='height')  # Dostosuj nazwę pola!
    buildings_raster = rasterizer.rasterize(f'{output_dir}/buildings.tif')
    
    # Analiza morfologii
    morphology = rasterizer.analyze_urban_morphology()
    print(f"📊 Morfologia miejska:")
    print(f"   - Liczba budynków: {morphology['building_count']}")
    print(f"   - Średnia wysokość: {morphology['avg_height_m']:.1f}m")
    print(f"   - Max wysokość: {morphology['max_height_m']:.1f}m")
    
    # Przetwórz pozostałe rastry
    preprocess_all_data(
        data_dir='/content/drive/MyDrive/microclimate/data/raw',
        output_dir='/content/drive/MyDrive/microclimate/data/processed'
    )
else:
    print("⚠️ Nie znaleziono pliku buildings.gpkg")
    print("   Umieść plik w: /My Drive/microclimate/data/raw/buildings.gpkg")

print("✅ Dane przetworzone")

# ============================================
# KOMÓRKA 6: Walidacja danych
# ============================================
from core.data_processor import UrbanDataProcessor

processor = UrbanDataProcessor(
    data_dir='/content/drive/MyDrive/microclimate/data/processed',
    resolution=5.0
)

# Wczytaj i zwaliduj
processor.load_all_layers()
validation = processor.validate_data()

print("🔍 Walidacja danych:")
for layer, is_valid in validation.items():
    status = "✅" if is_valid else "❌"
    print(f"   {status} {layer}")

# Eksportuj dla symulacji
processor.export_for_simulation('/content/drive/MyDrive/microclimate/simulation_data')

print("✅ Dane zwalidowane i wyeksportowane")

# ============================================
# KOMÓRKA 7: Konfiguracja ngrok
# ============================================
from pyngrok import ngrok
import nest_asyncio
nest_asyncio.apply()

# Ustaw token ngrok
NGROK_TOKEN = "YOUR_NGROK_TOKEN"  # @param {type:"string"}
ngrok.set_auth_token(NGROK_TOKEN)

print("✅ Ngrok skonfigurowany")

# ============================================
# KOMÓRKA 8: Konfiguracja API keys
# ============================================
import os

# Klucze API
OPENWEATHER_API_KEY = "YOUR_OPENWEATHER_KEY"  # @param {type:"string"}

os.environ['OPENWEATHER_API_KEY'] = OPENWEATHER_API_KEY

print("✅ Klucze API ustawione")

# ============================================
# KOMÓRKA 9: Import i inicjalizacja API
# ============================================
import sys
import importlib

# Przeładuj moduły (w razie zmian)
sys.path.insert(0, '/content/drive/MyDrive/microclimate/backend')

# Import modułów
from api.api_server import app
import uvicorn
from threading import Thread
import time

print("✅ API zaimportowane")

# ============================================
# KOMÓRKA 10: Uruchomienie serwera
# ============================================
import uvicorn
from threading import Thread
import time

# Funkcja uruchamiająca serwer
def run_server():
    uvicorn.run(
        app, 
        host="0.0.0.0", 
        port=8000,
        log_level="info"
    )

# Uruchom w osobnym wątku
thread = Thread(target=run_server, daemon=True)
thread.start()

# Poczekaj na start
time.sleep(5)

# Otwórz tunel ngrok
public_url = ngrok.connect(8000)
print(f"🚀 API dostępne pod adresem: {public_url}")
print(f"📊 Dokumentacja API: {public_url}/docs")
print(f"🔍 Status systemu: {public_url}/api/status")

# ============================================
# KOMÓRKA 11: Test API
# ============================================
import requests
import json

# Test statusu
response = requests.get(f"{public_url}/api/status")
print("📡 Status API:")
print(json.dumps(response.json(), indent=2))

# Test pogody
response = requests.get(f"{public_url}/api/weather")
print("\n🌤️ Aktualna pogoda:")
print(json.dumps(response.json(), indent=2))

print("\n✅ API działa poprawnie!")

# ============================================
# KOMÓRKA 12: Pierwsza symulacja
# ============================================
import requests
from datetime import datetime

print("🔄 Uruchamianie pierwszej symulacji...")

# Request symulacji
simulation_request = {
    "timestamp": datetime.now().isoformat(),
    "bounds": {
        "lat_min": 54.1,
        "lat_max": 54.2,
        "lon_min": 19.3,
        "lon_max": 19.5
    },
    "resolution": 5.0
}

response = requests.post(
    f"{public_url}/api/simulate",
    json=simulation_request
)

if response.status_code == 200:
    result = response.json()
    print(f"✅ Symulacja zakończona!")
    print(f"   - ID: {result['id']}")
    print(f"   - Czas obliczeń: {result['metadata']['computation_time_s']}s")
    print(f"   - UHI intensywność: {result['thermal_field']['uhi_intensity']}°C")
    print(f"   - Prędkość wiatru: {result['weather']['wind_speed']}m/s")
else:
    print(f"❌ Błąd symulacji: {response.text}")

# ============================================
# KOMÓRKA 13: Wizualizacja wyników
# ============================================
import matplotlib.pyplot as plt
import numpy as np
import plotly.graph_objects as go

if response.status_code == 200:
    # Rozpakuj wyniki
    wind_speed = np.array(result['wind_field']['speed_10m'])
    temperature = np.array(result['thermal_field']['surface_temperature'])
    
    # Wykres matplotlib
    fig, axes = plt.subplots(1, 2, figsize=(15, 6))
    
    # Pole wiatru
    im1 = axes[0].imshow(wind_speed, cmap='viridis', origin='lower')
    axes[0].set_title('Prędkość wiatru na 10m [m/s]')
    axes[0].set_xlabel('X [piksele]')
    axes[0].set_ylabel('Y [piksele]')
    plt.colorbar(im1, ax=axes[0])
    
    # Temperatura powierzchni
    im2 = axes[1].imshow(temperature, cmap='hot', origin='lower')
    axes[1].set_title('Temperatura powierzchni [°C]')
    axes[1].set_xlabel('X [piksele]')
    axes[1].set_ylabel('Y [piksele]')
    plt.colorbar(im2, ax=axes[1])
    
    plt.tight_layout()
    plt.show()
    
    # Interaktywny wykres Plotly
    fig = go.Figure(data=[
        go.Surface(z=temperature, colorscale='Hot', name='Temperatura'),
    ])
    
    fig.update_layout(
        title='Temperatura powierzchni 3D',
        scene=dict(
            xaxis_title='X',
            yaxis_title='Y',
            zaxis_title='Temperatura [°C]'
        ),
        height=600
    )
    
    fig.show()
    
    print("✅ Wizualizacja wygenerowana")

# ============================================
# KOMÓRKA 14: Zapisz URL dla frontendu
# ============================================
# Zapisz URL API do pliku dla frontendu
api_config = {
    "api_url": str(public_url),
    "api_endpoints": {
        "simulate": f"{public_url}/api/simulate",
        "status": f"{public_url}/api/status",
        "weather": f"{public_url}/api/weather",
        "results": f"{public_url}/api/results"
    },
    "last_updated": datetime.now().isoformat()
}

config_path = '/content/drive/MyDrive/microclimate/frontend/api_config.json'
os.makedirs(os.path.dirname(config_path), exist_ok=True)

with open(config_path, 'w') as f:
    json.dump(api_config, f, indent=2)

print(f"✅ Konfiguracja API zapisana: {config_path}")
print(f"\n📱 Użyj tego URL w frontend: {public_url}")

# ============================================
# KOMÓRKA 15: Monitoring (uruchom i zostaw)
# ============================================
import time
import IPython.display as display

print("📊 Monitoring systemu (odświeżanie co 30s)")
print("=" * 50)

while True:
    try:
        # Pobierz status
        response = requests.get(f"{public_url}/api/status", timeout=5)
        status = response.json()
        
        # Wyczyść i wyświetl
        display.clear_output(wait=True)
        
        print(f"📊 Monitoring systemu - {datetime.now().strftime('%H:%M:%S')}")
        print("=" * 50)
        print(f"Status: {status['status']}")
        print(f"Cache: {status['cache_size']} symulacji")
        print(f"Solver: {'✅ Gotowy' if status['solver_ready'] else '⏳ Inicjalizacja'}")
        print(f"Dane: {'✅ Załadowane' if status['data_loaded'] else '❌ Brak'}")
        print("=" * 50)
        print(f"API URL: {public_url}")
        print("\nNaciśnij STOP aby zatrzymać monitoring")
        
        # Czekaj 30 sekund
        time.sleep(30)
        
    except KeyboardInterrupt:
        print("\n⏹️ Monitoring zatrzymany")
        break
    except Exception as e:
        print(f"⚠️ Błąd: {e}")
        time.sleep(30)
